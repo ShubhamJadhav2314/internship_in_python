{
 "cells": [
  {
   "cell_type": "code",
   "execution_count": 4,
   "id": "bc9409b7",
   "metadata": {},
   "outputs": [
    {
     "name": "stdout",
     "output_type": "stream",
     "text": [
      "Predicted marks if 8 hours studied: [98.5]\n"
     ]
    }
   ],
   "source": [
    "import pandas as pd\n",
    "from sklearn.linear_model import LinearRegression\n",
    "\n",
    "# Sample Data\n",
    "hours = [[2], [3], [4], [5]]\n",
    "marks = [50, 60, 65, 75]\n",
    "\n",
    "# Create model\n",
    "model = LinearRegression()\n",
    "model.fit(hours, marks)\n",
    "\n",
    "# Predict\n",
    "print(\"Predicted marks if 8 hours studied:\", model.predict([[8]]))"
   ]
  }
 ],
 "metadata": {
  "kernelspec": {
   "display_name": "Python 3",
   "language": "python",
   "name": "python3"
  },
  "language_info": {
   "codemirror_mode": {
    "name": "ipython",
    "version": 3
   },
   "file_extension": ".py",
   "mimetype": "text/x-python",
   "name": "python",
   "nbconvert_exporter": "python",
   "pygments_lexer": "ipython3",
   "version": "3.13.2"
  }
 },
 "nbformat": 4,
 "nbformat_minor": 5
}
